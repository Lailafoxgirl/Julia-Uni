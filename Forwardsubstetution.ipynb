{
 "cells": [
  {
   "cell_type": "code",
   "execution_count": 38,
   "id": "f1db5c39-bc79-4778-96cd-a5dd07f115c6",
   "metadata": {},
   "outputs": [],
   "source": [
    "begin\n",
    "\tusing LinearAlgebra, BenchmarkTools\n",
    "\tm = 100\n",
    "\tA = rand(m,m)\n",
    "\tL = LowerTriangular(A)\n",
    "\tb = ones(m)\n",
    "end;\n",
    "\n",
    "function vorwsubst(L,b)\n",
    "    m = length(b)\n",
    "    x = zeros(m)\n",
    "    for k = 1:m\n",
    "        x[k] = (b[k] - L[k,1:k-1]'*x[1:k-1])/L[k,k]\n",
    "    end\n",
    "    return x\n",
    "end;\n",
    "\n",
    "begin\n",
    "\tx = vorwsubst(L,b)\n",
    "\tf = L*x ≈ b\n",
    "\n",
    "\t@debug \"x löst Gleichungssystem numerisch:\" f\n",
    "\t\n",
    "\tx̃ = L\\b \n",
    "\tf̃ = L*x̃ ≈ b\n",
    "\n",
    "\t@debug \"x̃ löst Gleichungssystem numerisch:\" f̃\n",
    "end\n",
    "\n",
    "begin\n",
    "\tt = @belapsed vorwsubst(L,b)\n",
    "\tt_direkt = @belapsed x_direkt = L\\b\n",
    "\t@debug \"Laufzeiten (sec):\" t, t_direkt\n",
    "end;"
   ]
  }
 ],
 "metadata": {
  "kernelspec": {
   "display_name": "Julia 1.12.1",
   "language": "julia",
   "name": "julia-1.12"
  },
  "language_info": {
   "file_extension": ".jl",
   "mimetype": "application/julia",
   "name": "julia",
   "version": "1.12.1"
  }
 },
 "nbformat": 4,
 "nbformat_minor": 5
}
