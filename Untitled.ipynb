{
 "cells": [
  {
   "cell_type": "code",
   "execution_count": 8,
   "id": "079e7c68-ccee-496f-b467-61b9ca9416ea",
   "metadata": {},
   "outputs": [
    {
     "data": {
      "text/plain": [
       "2"
      ]
     },
     "execution_count": 8,
     "metadata": {},
     "output_type": "execute_result"
    }
   ],
   "source": [
    "begin\n",
    "\tusing LinearAlgebra, BenchmarkTools\n",
    "end\n",
    "\n",
    "function LR!(A)\n",
    "    m = size(A,1)\n",
    "    for k = 1:m  \n",
    "\t\tA[k,k]\n",
    "        A[k+1:m,k] /= A[k,k]                      \t\t# ℓₖ = bₖ/αₖ\n",
    "        A[k+1:m,k+1:m] -= A[k+1:m,k]*A[k:k,k+1:m] \t\t# Aₖ₋₁ = Bₖ - ℓₖ*rₖ´\n",
    "    end\n",
    "end\n",
    "\n",
    "begin\n",
    "\tm = 10\n",
    "\tA = rand(m,m)\n",
    "\tA₀ = copy(A) \n",
    "\tLR!(A) \n",
    "\tL = UnitLowerTriangular(A)  \n",
    "\tR = UpperTriangular(A)      \n",
    "\t@debug \"\" L*R ≈ A₀\n",
    "end"
   ]
  }
 ],
 "metadata": {
  "kernelspec": {
   "display_name": "Julia 1.12.1",
   "language": "julia",
   "name": "julia-1.12"
  },
  "language_info": {
   "file_extension": ".jl",
   "mimetype": "application/julia",
   "name": "julia",
   "version": "1.12.1"
  }
 },
 "nbformat": 4,
 "nbformat_minor": 5
}
