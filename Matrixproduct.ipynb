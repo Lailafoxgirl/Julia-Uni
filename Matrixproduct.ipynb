{
 "cells": [
  {
   "cell_type": "code",
   "execution_count": 16,
   "id": "ae456991-c05a-4f81-96e7-4a9235c8f77c",
   "metadata": {},
   "outputs": [
    {
     "data": {
      "text/plain": [
       "21.764093334"
      ]
     },
     "execution_count": 16,
     "metadata": {},
     "output_type": "execute_result"
    }
   ],
   "source": [
    "begin\n",
    "\tusing LinearAlgebra, BenchmarkTools\n",
    "\t\n",
    "\t# die Testmatrizen\n",
    "\tm = 2000\n",
    "\tA = randn(m,m)\n",
    "\tB = randn(m,m)\n",
    "\tC = Matrix{Float64}(undef, m, m) # allokiere Speicher für die Produktmatrix\n",
    "end;"
   ]
  },
  {
   "cell_type": "code",
   "execution_count": 23,
   "id": "87aca888-3b54-4490-86ae-3c635e8afaab",
   "metadata": {},
   "outputs": [
    {
     "data": {
      "text/plain": [
       "6.347513833"
      ]
     },
     "execution_count": 23,
     "metadata": {},
     "output_type": "execute_result"
    }
   ],
   "source": [
    "# First Paper\n",
    "t_komponentenweise = begin\n",
    "\tfunction P_komponentenweise!(C, A, B)\n",
    "\t    m, n = size(A)\n",
    "\t    _, p = size(B)\n",
    "\t    fill!(C, 0) # initialisiere die Matrix C auf Null\n",
    "\t    for j=1:m\n",
    "\t        for l=1:p\n",
    "\t            for k=1:n\n",
    "\t                C[j,l] += A[j,k]*B[k,l] \n",
    "\t            end\n",
    "\t        end\n",
    "\t    end\n",
    "\tend\n",
    "\t\n",
    "\t@belapsed P_komponentenweise!(C, A, B) seconds=1\n",
    "end\n",
    "\n",
    "t_zeilenweise = begin\n",
    "\tfunction P_zeilenweise!(C, A, B)\n",
    "\t\tm, n = size(A)\n",
    "\t\t_, p = size(B)\n",
    "\t\tfor j=1:m\n",
    "\t\t\tC[j,:] = A[j:j,:]*B\n",
    "\t\tend\n",
    "\tend\n",
    "\t\n",
    "\t@belapsed P_zeilenweise!(C, A, B) seconds=1\n",
    "end\n",
    "\n",
    "t_innere_produkte = begin\n",
    "\tfunction P_innere_produkte!(C, A, B)\n",
    "\t    m, n = size(A)\n",
    "\t    _, p = size(B)\n",
    "\t    for j=1:m\n",
    "\t        for l=1:p\n",
    "\t            @views C[j,l] = dot(A[j,:],B[:,l])\n",
    "\t        end\n",
    "\t    end\n",
    "\t    return C\n",
    "\tend\n",
    "\t\n",
    "\t@belapsed P_innere_produkte!(C, A, B) seconds=1\n",
    "end\n",
    "\n",
    "t_innere_produkte = begin\n",
    "\tfunction P_innere_produkte!(C, A, B)\n",
    "\t    m, n = size(A)\n",
    "\t    _, p = size(B)\n",
    "\t    for j=1:m\n",
    "\t        for l=1:p\n",
    "\t            @views C[j,l] = dot(A[j,:],B[:,l])\n",
    "\t        end\n",
    "\t    end\n",
    "\t    return C\n",
    "\tend\n",
    "\t\n",
    "\t@belapsed P_innere_produkte!(C, A, B) seconds=1\n",
    "end"
   ]
  }
 ],
 "metadata": {
  "kernelspec": {
   "display_name": "Julia 1.12.1",
   "language": "julia",
   "name": "julia-1.12"
  },
  "language_info": {
   "file_extension": ".jl",
   "mimetype": "application/julia",
   "name": "julia",
   "version": "1.12.1"
  }
 },
 "nbformat": 4,
 "nbformat_minor": 5
}
