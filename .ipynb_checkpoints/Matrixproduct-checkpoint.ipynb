{
 "cells": [
  {
   "cell_type": "code",
   "execution_count": 11,
   "id": "ae456991-c05a-4f81-96e7-4a9235c8f77c",
   "metadata": {},
   "outputs": [
    {
     "name": "stdout",
     "output_type": "stream",
     "text": [
      "hello this is a new version\n"
     ]
    }
   ],
   "source": [
    "n = 4\n",
    "A = rand(1:10, n, n)\n",
    "L = zeros(n, n)\n",
    "R = zeros(n, n)\n",
    "println(\"hello this is a new version\")"
   ]
  }
 ],
 "metadata": {
  "kernelspec": {
   "display_name": "Julia 1.12.1",
   "language": "julia",
   "name": "julia-1.12"
  },
  "language_info": {
   "file_extension": ".jl",
   "mimetype": "application/julia",
   "name": "julia",
   "version": "1.12.1"
  }
 },
 "nbformat": 4,
 "nbformat_minor": 5
}
